{
 "cells": [
  {
   "cell_type": "code",
   "execution_count": 2,
   "metadata": {},
   "outputs": [],
   "source": [
    "from collections import OrderedDict\n",
    "import numpy as np\n",
    "import json\n",
    "import pandas as pd\n",
    "from os.path import join"
   ]
  },
  {
   "cell_type": "markdown",
   "metadata": {},
   "source": [
    "This notebook shows, how to evaluate the MultiLayer Perceptron (MLP) model exported from Julia Flux. See `1.0-hd-export_model_parameters.ipynb`."
   ]
  },
  {
   "cell_type": "code",
   "execution_count": 25,
   "metadata": {},
   "outputs": [],
   "source": [
    "model_dir = \"../exp/full/8/group_data_size/1024_512_256\""
   ]
  },
  {
   "cell_type": "markdown",
   "metadata": {},
   "source": [
    "Import all model parameters (weights and biases)."
   ]
  },
  {
   "cell_type": "code",
   "execution_count": 20,
   "metadata": {},
   "outputs": [],
   "source": [
    "parameters = np.load(join(model_dir, \"model.npz\"))"
   ]
  },
  {
   "cell_type": "markdown",
   "metadata": {},
   "source": [
    "Let's have a look at the parameter shapes. These should be transposed versions of those from `1.0-hd-export_model_parameters.ipynb`."
   ]
  },
  {
   "cell_type": "code",
   "execution_count": 24,
   "metadata": {},
   "outputs": [
    {
     "name": "stdout",
     "output_type": "stream",
     "text": [
      "layer 1 weights shape: (51, 1024)\n",
      "layer 1 biases shape: (1, 1024)\n",
      "layer 2 weights shape: (1024, 512)\n",
      "layer 2 biases shape: (1, 512)\n",
      "layer 3 weights shape: (512, 256)\n",
      "layer 3 biases shape: (1, 256)\n"
     ]
    }
   ],
   "source": [
    "nlayers = len(parameters) // 2\n",
    "for i in range(1, nlayers):\n",
    "    W = \"W\" + str(i)\n",
    "    b = \"b\" + str(i)\n",
    "    print(\"layer {} weights shape: {}\".format(i, parameters[W].shape))\n",
    "    print(\"layer {} biases shape: {}\".format(i, parameters[b].shape))"
   ]
  },
  {
   "cell_type": "markdown",
   "metadata": {},
   "source": [
    "The following method evaluates the MLP."
   ]
  },
  {
   "cell_type": "code",
   "execution_count": 43,
   "metadata": {},
   "outputs": [],
   "source": [
    "def evaluate(X, parameters, mus, sigmas, final_activation=True):\n",
    "    nlayers = len(parameters) // 2\n",
    "    Y = (X-mus)/sigmas # standardize inputs\n",
    "    print(Y)\n",
    "    for i in range(1, nlayers+1):\n",
    "        W = parameters[\"W\" + str(i)]\n",
    "        b = parameters[\"b\" + str(i)]\n",
    "        Y = np.dot(Y, W) + b\n",
    "        if i < nlayers:\n",
    "            Y = np.maximum(Y, 0)# ReLU for all hidden layers\n",
    "        elif final_activation:\n",
    "            Y = 1/(1+np.exp(-Y)) # sigmoid for the output layer so we get expected probability of ride feasibility (values in (0,1])\n",
    "    return Y   "
   ]
  },
  {
   "cell_type": "markdown",
   "metadata": {},
   "source": [
    "Now let us see if it gives the same output as the original Julia version."
   ]
  },
  {
   "cell_type": "code",
   "execution_count": 44,
   "metadata": {},
   "outputs": [
    {
     "name": "stdout",
     "output_type": "stream",
     "text": [
      "[[1. 1. 1. 1. 1. 1. 1. 1. 1. 1. 1. 1. 1. 1. 1. 1. 1. 1. 1. 1. 1. 1. 1. 1.\n",
      "  1. 1. 1. 1. 1. 1. 1. 1. 1. 1. 1. 1. 1. 1. 1. 1. 1. 1. 1. 1. 1. 1. 1. 1.\n",
      "  1. 1. 1.]]\n"
     ]
    },
    {
     "data": {
      "text/plain": [
       "array([[9.70097435]])"
      ]
     },
     "execution_count": 44,
     "metadata": {},
     "output_type": "execute_result"
    }
   ],
   "source": [
    "X = np.ones((1, 51))\n",
    "mus = np.zeros((1, 51))\n",
    "sigmas = np.ones((1, 51))\n",
    "evaluate(X, parameters, mus, sigmas, final_activation=False)"
   ]
  },
  {
   "cell_type": "markdown",
   "metadata": {},
   "source": [
    "The network was trained with standardized inputs so we need to load the standardization coefficients."
   ]
  },
  {
   "cell_type": "code",
   "execution_count": 42,
   "metadata": {},
   "outputs": [],
   "source": [
    "model_stds = np.load(join(model_dir, \"model_standardization.npz\"))\n",
    "mus = model_stds[\"mus\"].reshape(1, -1)\n",
    "sigmas = model_stds[\"sigmas\"].reshape(1, -1)"
   ]
  },
  {
   "cell_type": "markdown",
   "metadata": {},
   "source": [
    "In practise the network is the network will be evaluated as\n",
    "`evaluate(X, parameters, mus, sigmas, final_activation=True)` where the output is predicted probability of feasible ride."
   ]
  }
 ],
 "metadata": {
  "kernelspec": {
   "display_name": "Python 3",
   "language": "python",
   "name": "python3"
  },
  "language_info": {
   "codemirror_mode": {
    "name": "ipython",
    "version": 3
   },
   "file_extension": ".py",
   "mimetype": "text/x-python",
   "name": "python",
   "nbconvert_exporter": "python",
   "pygments_lexer": "ipython3",
   "version": "3.8.3"
  }
 },
 "nbformat": 4,
 "nbformat_minor": 4
}
