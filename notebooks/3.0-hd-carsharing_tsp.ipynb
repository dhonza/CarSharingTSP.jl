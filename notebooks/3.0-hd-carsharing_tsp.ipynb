{
 "cells": [
  {
   "cell_type": "code",
   "execution_count": null,
   "metadata": {},
   "outputs": [],
   "source": [
    "using Pkg\n",
    "using Base.Iterators\n",
    "using BSON: @load, @save\n",
    "using CSV\n",
    "# using CuArrays\n",
    "using DataFrames\n",
    "using DataStructures: OrderedDict\n",
    "using Dates\n",
    "using Flux\n",
    "using Flux: binarycrossentropy, logitbinarycrossentropy, crossentropy\n",
    "using JSON\n",
    "using LinearAlgebra\n",
    "import MLDataUtils: shuffleobs, getobs, splitobs, stratifiedobs, RandomBatches\n",
    "using MLDataPattern\n",
    "using Printf\n",
    "using PyPlot\n",
    "using Random\n",
    "using Statistics\n",
    "\n",
    "using FluxGoodies\n",
    "\n",
    "ENV[\"COLUMNS\"] = 1000\n",
    "# CuArrays.allowscalar(false)"
   ]
  },
  {
   "cell_type": "markdown",
   "metadata": {},
   "source": [
    "Experimental code."
   ]
  },
  {
   "cell_type": "code",
   "execution_count": 3,
   "metadata": {},
   "outputs": [
    {
     "data": {
      "text/plain": [
       "import_csv (generic function with 2 methods)"
      ]
     },
     "execution_count": 3,
     "metadata": {},
     "output_type": "execute_result"
    }
   ],
   "source": [
    "function import_csv(fname, split::AbstractFloat = 0.8)\n",
    "    df = CSV.read(fname)\n",
    "    n = size(df, 1)\n",
    "    npassengers = (size(df, 2) - 4) ÷ 6\n",
    "    println(\"samples: $(n), #passengers: $npassengers\")\n",
    "    df = df[:, Symbol.(vcat([\"onboard_count\", \"lat\", \"lon\"], [[\"pickup_$(i)_lat\",\n",
    "            \"pickup_$(i)_lon\", \"pickup_$(i)_maxtime\",\n",
    "            \"dropoff_$(i)_lat\",\n",
    "            \"dropoff_$(i)_lon\", \"dropoff_$(i)_maxtime\"] for i in 1:npassengers]..., [\"feasible\"]))]\n",
    "    desc = \"VGA data for $npassengers passengers\"\n",
    "    Random.seed!(1234)\n",
    "    itrn, itst = first.(parentindices.(splitobs(shuffleobs(df), split)))\n",
    "    rawdata = Dataset(df, desc, [:train => itrn, :test => itst])\n",
    "    dtrans = tonumerical(rawdata, :, :T => Dict(:standardize => false))\n",
    "    data = transform(rawdata, dtrans, Matrix{Float32})\n",
    "    data, rawdata, dtrans\n",
    "end"
   ]
  },
  {
   "cell_type": "code",
   "execution_count": 6,
   "metadata": {},
   "outputs": [
    {
     "data": {
      "text/plain": [
       "MLP(Chain(Dense(27, 1024, NNlib.relu), Dense(1024, 512, NNlib.relu), Dense(512, 256, NNlib.relu), Dense(256, 1)))"
      ]
     },
     "execution_count": 6,
     "metadata": {},
     "output_type": "execute_result"
    }
   ],
   "source": [
    "model_dir=\"../../../../carsharing-tsp/exp/car4_test1024_512_256_gpu/\"    \n",
    "@load joinpath(model_dir, \"model.bson\") cpumodel\n",
    "model = cpumodel |> gpu"
   ]
  },
  {
   "cell_type": "code",
   "execution_count": 7,
   "metadata": {},
   "outputs": [
    {
     "data": {
      "text/plain": [
       "2×2 Array{Float64,2}:\n",
       " 0.696735  0.01923 \n",
       " 0.07868   0.205355"
      ]
     },
     "execution_count": 7,
     "metadata": {},
     "output_type": "execute_result"
    }
   ],
   "source": [
    "function logcmatrix(logY, T)\n",
    "    C = σ.(logY) .> 0.5\n",
    "    t, f = T .== 1, T .== 0\n",
    "    TP = sum(T[t] .== C[t])\n",
    "    FP = sum(T[t] .!= C[t])\n",
    "    TN = sum(T[f] .== C[f])\n",
    "    FN = sum(T[f] .!= C[f])\n",
    "    [TP FP; FN TN]\n",
    "end\n",
    "\n",
    "cm = logcmatrix(model(X_tst), T_tst)\n",
    "cm ./ sum(cm)"
   ]
  },
  {
   "cell_type": "code",
   "execution_count": 8,
   "metadata": {},
   "outputs": [
    {
     "data": {
      "text/plain": [
       "0.71562f0"
      ]
     },
     "execution_count": 8,
     "metadata": {},
     "output_type": "execute_result"
    }
   ],
   "source": [
    "mean(T_trn)"
   ]
  },
  {
   "cell_type": "code",
   "execution_count": 9,
   "metadata": {},
   "outputs": [],
   "source": [
    "t = σ.(cpu(model(X_tst))).data;"
   ]
  },
  {
   "cell_type": "code",
   "execution_count": 10,
   "metadata": {},
   "outputs": [
    {
     "data": {
      "text/plain": [
       "1×200000 Array{Float32,2}:\n",
       " 0.968691  0.0367181  0.971925  0.988065  …  0.999333  0.99315  0.999895"
      ]
     },
     "execution_count": 10,
     "metadata": {},
     "output_type": "execute_result"
    }
   ],
   "source": [
    "t"
   ]
  },
  {
   "cell_type": "code",
   "execution_count": 12,
   "metadata": {},
   "outputs": [
    {
     "data": {
      "image/png": "[encoded data removed]",
      "text/plain": [
       "Figure(PyObject <Figure size 640x480 with 1 Axes>)"
      ]
     },
     "metadata": {},
     "output_type": "display_data"
    },
    {
     "data": {
      "text/plain": [
       "PyObject Text(24.0, 0.5, 'count')"
      ]
     },
     "execution_count": 12,
     "metadata": {},
     "output_type": "execute_result"
    }
   ],
   "source": [
    "plt.hist(reshape(t, :))\n",
    "plt.xlabel(\"feasible probability\")\n",
    "plt.ylabel(\"count\")"
   ]
  },
  {
   "cell_type": "code",
   "execution_count": null,
   "metadata": {},
   "outputs": [],
   "source": []
  }
 ],
 "metadata": {
  "kernelspec": {
   "display_name": "Julia 1.5.1",
   "language": "julia",
   "name": "julia-1.5"
  },
  "language_info": {
   "file_extension": ".jl",
   "mimetype": "application/julia",
   "name": "julia",
   "version": "1.5.1"
  }
 },
 "nbformat": 4,
 "nbformat_minor": 4
}
